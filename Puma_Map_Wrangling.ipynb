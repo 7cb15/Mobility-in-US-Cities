{
 "cells": [
  {
   "cell_type": "code",
   "execution_count": 1,
   "metadata": {},
   "outputs": [],
   "source": [
    "import pandas as pd\n",
    "import numpy as np\n",
    "import geopandas as gpd\n",
    "import os\n",
    "from os.path import join\n",
    "from shapely.geometry import Polygon\n",
    "from matplotlib import pyplot\n",
    "%matplotlib inline"
   ]
  },
  {
   "cell_type": "code",
   "execution_count": 2,
   "metadata": {},
   "outputs": [
    {
     "data": {
      "text/plain": [
       "'C:\\\\Users\\\\karan\\\\Python Notebooks\\\\MPI\\\\Data'"
      ]
     },
     "execution_count": 2,
     "metadata": {},
     "output_type": "execute_result"
    }
   ],
   "source": [
    "os.chdir('Data/')\n",
    "os.getcwd()"
   ]
  },
  {
   "cell_type": "code",
   "execution_count": 23,
   "metadata": {},
   "outputs": [
    {
     "data": {
      "text/html": [
       "<div>\n",
       "<style scoped>\n",
       "    .dataframe tbody tr th:only-of-type {\n",
       "        vertical-align: middle;\n",
       "    }\n",
       "\n",
       "    .dataframe tbody tr th {\n",
       "        vertical-align: top;\n",
       "    }\n",
       "\n",
       "    .dataframe thead th {\n",
       "        text-align: right;\n",
       "    }\n",
       "</style>\n",
       "<table border=\"1\" class=\"dataframe\">\n",
       "  <thead>\n",
       "    <tr style=\"text-align: right;\">\n",
       "      <th></th>\n",
       "      <th>STATEFP10</th>\n",
       "      <th>PUMACE10</th>\n",
       "      <th>NAMELSAD10</th>\n",
       "      <th>geometry</th>\n",
       "    </tr>\n",
       "  </thead>\n",
       "  <tbody>\n",
       "    <tr>\n",
       "      <th>0</th>\n",
       "      <td>36</td>\n",
       "      <td>3803</td>\n",
       "      <td>NYC-Manhattan Community District 10--Central H...</td>\n",
       "      <td>POLYGON ((-73.95150599999999 40.812008, -73.95...</td>\n",
       "    </tr>\n",
       "    <tr>\n",
       "      <th>1</th>\n",
       "      <td>36</td>\n",
       "      <td>3707</td>\n",
       "      <td>NYC-Bronx Community District 5--Morris Heights...</td>\n",
       "      <td>POLYGON ((-73.90980999999999 40.857348, -73.90...</td>\n",
       "    </tr>\n",
       "    <tr>\n",
       "      <th>2</th>\n",
       "      <td>36</td>\n",
       "      <td>3201</td>\n",
       "      <td>Nassau County (Northwest)--North Hempstead Tow...</td>\n",
       "      <td>POLYGON ((-73.628102 40.816038, -73.627775 40....</td>\n",
       "    </tr>\n",
       "    <tr>\n",
       "      <th>3</th>\n",
       "      <td>36</td>\n",
       "      <td>3301</td>\n",
       "      <td>Suffolk County (Northwest)--Huntington Town (N...</td>\n",
       "      <td>POLYGON ((-73.36815199999999 40.863641, -73.36...</td>\n",
       "    </tr>\n",
       "    <tr>\n",
       "      <th>4</th>\n",
       "      <td>36</td>\n",
       "      <td>3303</td>\n",
       "      <td>Suffolk County (Northwest)--Smithtown Town PUMA</td>\n",
       "      <td>POLYGON ((-73.232677 40.913281, -73.151922 40....</td>\n",
       "    </tr>\n",
       "  </tbody>\n",
       "</table>\n",
       "</div>"
      ],
      "text/plain": [
       "  STATEFP10  PUMACE10                                         NAMELSAD10  \\\n",
       "0        36      3803  NYC-Manhattan Community District 10--Central H...   \n",
       "1        36      3707  NYC-Bronx Community District 5--Morris Heights...   \n",
       "2        36      3201  Nassau County (Northwest)--North Hempstead Tow...   \n",
       "3        36      3301  Suffolk County (Northwest)--Huntington Town (N...   \n",
       "4        36      3303    Suffolk County (Northwest)--Smithtown Town PUMA   \n",
       "\n",
       "                                            geometry  \n",
       "0  POLYGON ((-73.95150599999999 40.812008, -73.95...  \n",
       "1  POLYGON ((-73.90980999999999 40.857348, -73.90...  \n",
       "2  POLYGON ((-73.628102 40.816038, -73.627775 40....  \n",
       "3  POLYGON ((-73.36815199999999 40.863641, -73.36...  \n",
       "4  POLYGON ((-73.232677 40.913281, -73.151922 40....  "
      ]
     },
     "execution_count": 23,
     "metadata": {},
     "output_type": "execute_result"
    }
   ],
   "source": [
    "all_shp = gpd.read_file('puma.geojson')\n",
    "all_shp['PUMACE10'] = all_shp['PUMACE10'].astype(int)\n",
    "all_shp = all_shp[['STATEFP10','PUMACE10','NAMELSAD10','geometry']]\n",
    "all_shp.head()"
   ]
  },
  {
   "cell_type": "code",
   "execution_count": 4,
   "metadata": {},
   "outputs": [
    {
     "data": {
      "text/html": [
       "<div>\n",
       "<style scoped>\n",
       "    .dataframe tbody tr th:only-of-type {\n",
       "        vertical-align: middle;\n",
       "    }\n",
       "\n",
       "    .dataframe tbody tr th {\n",
       "        vertical-align: top;\n",
       "    }\n",
       "\n",
       "    .dataframe thead th {\n",
       "        text-align: right;\n",
       "    }\n",
       "</style>\n",
       "<table border=\"1\" class=\"dataframe\">\n",
       "  <thead>\n",
       "    <tr style=\"text-align: right;\">\n",
       "      <th></th>\n",
       "      <th>origin_puma</th>\n",
       "      <th>dest_puma</th>\n",
       "      <th>od_counts</th>\n",
       "    </tr>\n",
       "  </thead>\n",
       "  <tbody>\n",
       "    <tr>\n",
       "      <th>0</th>\n",
       "      <td>101</td>\n",
       "      <td>101</td>\n",
       "      <td>17413</td>\n",
       "    </tr>\n",
       "    <tr>\n",
       "      <th>1</th>\n",
       "      <td>101</td>\n",
       "      <td>102</td>\n",
       "      <td>4828</td>\n",
       "    </tr>\n",
       "    <tr>\n",
       "      <th>2</th>\n",
       "      <td>101</td>\n",
       "      <td>103</td>\n",
       "      <td>3755</td>\n",
       "    </tr>\n",
       "    <tr>\n",
       "      <th>3</th>\n",
       "      <td>101</td>\n",
       "      <td>104</td>\n",
       "      <td>149</td>\n",
       "    </tr>\n",
       "    <tr>\n",
       "      <th>4</th>\n",
       "      <td>101</td>\n",
       "      <td>105</td>\n",
       "      <td>421</td>\n",
       "    </tr>\n",
       "  </tbody>\n",
       "</table>\n",
       "</div>"
      ],
      "text/plain": [
       "   origin_puma  dest_puma  od_counts\n",
       "0          101        101      17413\n",
       "1          101        102       4828\n",
       "2          101        103       3755\n",
       "3          101        104        149\n",
       "4          101        105        421"
      ]
     },
     "execution_count": 4,
     "metadata": {},
     "output_type": "execute_result"
    }
   ],
   "source": [
    "df = pd.read_csv('sf_puma.csv')\n",
    "df.drop(columns=['Unnamed: 0'],inplace=True)\n",
    "df.head()"
   ]
  },
  {
   "cell_type": "code",
   "execution_count": 5,
   "metadata": {},
   "outputs": [
    {
     "data": {
      "text/html": [
       "<div>\n",
       "<style scoped>\n",
       "    .dataframe tbody tr th:only-of-type {\n",
       "        vertical-align: middle;\n",
       "    }\n",
       "\n",
       "    .dataframe tbody tr th {\n",
       "        vertical-align: top;\n",
       "    }\n",
       "\n",
       "    .dataframe thead th {\n",
       "        text-align: right;\n",
       "    }\n",
       "</style>\n",
       "<table border=\"1\" class=\"dataframe\">\n",
       "  <thead>\n",
       "    <tr style=\"text-align: right;\">\n",
       "      <th></th>\n",
       "      <th>STATEFP10</th>\n",
       "      <th>PUMACE10</th>\n",
       "      <th>NAMELSAD10</th>\n",
       "      <th>geometry</th>\n",
       "    </tr>\n",
       "  </thead>\n",
       "  <tbody>\n",
       "    <tr>\n",
       "      <th>191</th>\n",
       "      <td>34</td>\n",
       "      <td>101</td>\n",
       "      <td>Atlantic County (East)--Atlantic City &amp; Ventno...</td>\n",
       "      <td>POLYGON ((-74.508858 39.309347, -74.51181 39.3...</td>\n",
       "    </tr>\n",
       "    <tr>\n",
       "      <th>386</th>\n",
       "      <td>06</td>\n",
       "      <td>101</td>\n",
       "      <td>Alameda County (North)--Berkeley &amp; Albany Citi...</td>\n",
       "      <td>POLYGON ((-122.245314 37.869774, -122.245313 3...</td>\n",
       "    </tr>\n",
       "  </tbody>\n",
       "</table>\n",
       "</div>"
      ],
      "text/plain": [
       "    STATEFP10  PUMACE10                                         NAMELSAD10  \\\n",
       "191        34       101  Atlantic County (East)--Atlantic City & Ventno...   \n",
       "386        06       101  Alameda County (North)--Berkeley & Albany Citi...   \n",
       "\n",
       "                                              geometry  \n",
       "191  POLYGON ((-74.508858 39.309347, -74.51181 39.3...  \n",
       "386  POLYGON ((-122.245314 37.869774, -122.245313 3...  "
      ]
     },
     "execution_count": 5,
     "metadata": {},
     "output_type": "execute_result"
    }
   ],
   "source": [
    "all_shp[all_shp['PUMACE10']==101]"
   ]
  },
  {
   "cell_type": "code",
   "execution_count": 6,
   "metadata": {},
   "outputs": [
    {
     "data": {
      "text/plain": [
       "(571, 4)"
      ]
     },
     "execution_count": 6,
     "metadata": {},
     "output_type": "execute_result"
    }
   ],
   "source": [
    "all_shp.shape"
   ]
  },
  {
   "cell_type": "code",
   "execution_count": 20,
   "metadata": {},
   "outputs": [
    {
     "data": {
      "text/plain": [
       "array(['36', '34', '17', '06'], dtype=object)"
      ]
     },
     "execution_count": 20,
     "metadata": {},
     "output_type": "execute_result"
    }
   ],
   "source": [
    "all_shp['STATEFP10'].unique()"
   ]
  },
  {
   "cell_type": "code",
   "execution_count": 27,
   "metadata": {},
   "outputs": [],
   "source": [
    "def convert_to_poly(geom):\n",
    "    if(geom.type=='Polygon'):\n",
    "        return geom\n",
    "    else:\n",
    "        return geom[0]\n",
    "    \n",
    "all_shp['geometry'] = all_shp['geometry'].map(convert_to_poly)"
   ]
  },
  {
   "cell_type": "code",
   "execution_count": 34,
   "metadata": {},
   "outputs": [
    {
     "name": "stderr",
     "output_type": "stream",
     "text": [
      "c:\\users\\karan\\appdata\\local\\programs\\python\\python36\\lib\\site-packages\\ipykernel_launcher.py:41: SettingWithCopyWarning: \n",
      "A value is trying to be set on a copy of a slice from a DataFrame.\n",
      "Try using .loc[row_indexer,col_indexer] = value instead\n",
      "\n",
      "See the caveats in the documentation: http://pandas.pydata.org/pandas-docs/stable/indexing.html#indexing-view-versus-copy\n"
     ]
    }
   ],
   "source": [
    "file_dict = {'ny':'nyc_puma.csv','la':'la_puma.csv','sf':'sf_puma.csv','chic':'chic_puma.csv'}\n",
    "city_list = ['ny','la','sf','chic']\n",
    "#state_dict = {'ny':['34','36'],'la':['06'],'sf':['06'],'chic':['17']}\n",
    "state_dict = {'ny':['36'],'la':['06'],'sf':['06'],'chic':['17']}\n",
    "bin_dict = {\n",
    "    'ny':[    0,   5000,   10000,  25000,  50000,  100000, 723000],\n",
    "    'la':[    0,   5000,   10000,  25000,  50000,  100000, 533000],\n",
    "    'sf':[    0,   5000,   10000,  25000,  50000,  100000, 294000],\n",
    "    'chic':[    0,   5000,   10000,  25000,  50000,  100000, 249000]\n",
    "    }\n",
    "df_list = []\n",
    "colors = ['darkred','red','orange','yellow','lime','green']\n",
    "colormap = {i: colors[i] for i in range(6)}\n",
    "\n",
    "def map_puma_id(puma,city):\n",
    "    try:\n",
    "        shp_match = all_shp[(all_shp['PUMACE10']==puma)&(all_shp['STATEFP10'].isin(state_dict[city]))]\n",
    "        puma_id = list(shp_match['PUMACE10'])[0]\n",
    "        state_id = list(shp_match['STATEFP10'])[0]\n",
    "        return str(state_id) + '_' + str(puma_id)\n",
    "    except IndexError:\n",
    "        return '0'\n",
    "\n",
    "for city in city_list:\n",
    "    df = pd.read_csv(file_dict[city])\n",
    "    bins = bin_dict[city]\n",
    "    labels = np.arange(1,len(bins))\n",
    "    \n",
    "    df['binned'] = pd.cut(df['od_counts'], bins=bins, labels=labels)\n",
    "    df['color'] = df['binned'].map(lambda x: colormap[5-(x-1)])    \n",
    "    df.drop(columns=['Unnamed: 0','binned'],inplace=True)  \n",
    "    \n",
    "    df['origin_puma'] = df['origin_puma'].map(lambda x: map_puma_id(int(x),city)) \n",
    "    df['dest_puma'] = df['dest_puma'].map(lambda x: map_puma_id(int(x),city))\n",
    "    df = df[(df['origin_puma']!='0')&(df['dest_puma']!='0')]\n",
    "    \n",
    "    df_list.append(df)\n",
    "    df.to_csv('d3_puma_'+city+'.csv')\n",
    "    \n",
    "    shp = all_shp[all_shp['STATEFP10'].isin(state_dict[city])]\n",
    "    shp['puma_id'] = shp.apply(lambda row: str(row['STATEFP10'])+'_'+str(row['PUMACE10']),axis=1)\n",
    "    shp = shp[shp['puma_id'].isin(list(df['origin_puma'].unique())+list(df['dest_puma'].unique()))]\n",
    "    shp.drop(columns=['STATEFP10','PUMACE10'],inplace=True)\n",
    "    shp.to_file('d3_puma_'+city+'.geojson',driver='GeoJSON')"
   ]
  },
  {
   "cell_type": "code",
   "execution_count": 55,
   "metadata": {},
   "outputs": [
    {
     "name": "stdout",
     "output_type": "stream",
     "text": [
      "722318\n"
     ]
    },
    {
     "data": {
      "image/png": "[encoded data removed]",
      "text/plain": [
       "<Figure size 432x288 with 1 Axes>"
      ]
     },
     "metadata": {
      "needs_background": "light"
     },
     "output_type": "display_data"
    }
   ],
   "source": [
    "df_list[0].od_counts.plot(kind='hist',bins=100)\n",
    "print(df_list[0]['od_counts'].max())"
   ]
  },
  {
   "cell_type": "code",
   "execution_count": 56,
   "metadata": {
    "scrolled": true
   },
   "outputs": [
    {
     "name": "stdout",
     "output_type": "stream",
     "text": [
      "532918\n"
     ]
    },
    {
     "data": {
      "image/png": "[encoded data removed]",
      "text/plain": [
       "<Figure size 432x288 with 1 Axes>"
      ]
     },
     "metadata": {
      "needs_background": "light"
     },
     "output_type": "display_data"
    }
   ],
   "source": [
    "df_list[1].od_counts.plot(kind='hist',bins=100)\n",
    "print(df_list[1]['od_counts'].max())"
   ]
  },
  {
   "cell_type": "code",
   "execution_count": 59,
   "metadata": {},
   "outputs": [
    {
     "name": "stdout",
     "output_type": "stream",
     "text": [
      "293001\n"
     ]
    },
    {
     "data": {
      "image/png": "[encoded data removed]",
      "text/plain": [
       "<Figure size 432x288 with 1 Axes>"
      ]
     },
     "metadata": {
      "needs_background": "light"
     },
     "output_type": "display_data"
    }
   ],
   "source": [
    "df_list[2].od_counts.plot(kind='hist',bins=100)\n",
    "print(df_list[2]['od_counts'].max())"
   ]
  },
  {
   "cell_type": "code",
   "execution_count": 60,
   "metadata": {},
   "outputs": [
    {
     "name": "stdout",
     "output_type": "stream",
     "text": [
      "248292\n"
     ]
    },
    {
     "data": {
      "image/png": "[encoded data removed]",
      "text/plain": [
       "<Figure size 432x288 with 1 Axes>"
      ]
     },
     "metadata": {
      "needs_background": "light"
     },
     "output_type": "display_data"
    }
   ],
   "source": [
    "df_list[3].od_counts.plot(kind='hist',bins=100)\n",
    "print(df_list[3]['od_counts'].max())"
   ]
  },
  {
   "cell_type": "code",
   "execution_count": null,
   "metadata": {},
   "outputs": [],
   "source": []
  }
 ],
 "metadata": {
  "kernelspec": {
   "display_name": "Python 3",
   "language": "python",
   "name": "python3"
  },
  "language_info": {
   "codemirror_mode": {
    "name": "ipython",
    "version": 3
   },
   "file_extension": ".py",
   "mimetype": "text/x-python",
   "name": "python",
   "nbconvert_exporter": "python",
   "pygments_lexer": "ipython3",
   "version": "3.6.8"
  }
 },
 "nbformat": 4,
 "nbformat_minor": 2
}
