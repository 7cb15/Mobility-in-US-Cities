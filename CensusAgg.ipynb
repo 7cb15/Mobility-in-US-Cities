{
 "cells": [
  {
   "cell_type": "markdown",
   "metadata": {},
   "source": [
    "### Script for aggregating quadtree data to census tract level"
   ]
  },
  {
   "cell_type": "code",
   "execution_count": 79,
   "metadata": {},
   "outputs": [],
   "source": [
    "#import packages\n",
    "import pandas as pd\n",
    "import geopandas as gpd\n",
    "import numpy as np\n",
    "import convert_quadtree_to_latlon as con\n",
    "from shapely.geometry import Polygon\n",
    "from pygeotile.tile import Tile\n",
    "from shapely.geometry import Point\n",
    "import os\n",
    "import os.path"
   ]
  },
  {
   "cell_type": "code",
   "execution_count": 80,
   "metadata": {},
   "outputs": [
    {
     "data": {
      "text/plain": [
       "'/projects/mpi/shared/Data'"
      ]
     },
     "execution_count": 80,
     "metadata": {},
     "output_type": "execute_result"
    }
   ],
   "source": [
    "#set working directory\n",
    "os.chdir('/projects/mpi/shared/Data')\n",
    "os.getcwd()"
   ]
  },
  {
   "cell_type": "code",
   "execution_count": 81,
   "metadata": {},
   "outputs": [],
   "source": [
    "#grab file strings\n",
    "chicago = 'chicago_all.csv'\n",
    "nyc = 'nyc_all.csv'\n",
    "la = 'la_all.csv'\n",
    "sf = 'sf_all.csv'"
   ]
  },
  {
   "cell_type": "code",
   "execution_count": 82,
   "metadata": {},
   "outputs": [],
   "source": [
    "col_list = ['qtid_origin','qtid_destination','OD_counts','num_dates','avg_travel_distance (mile)',\n",
    "            'avg_travel_time (second)','time_period','dominant_mode_1','dominant_mode_2']"
   ]
  },
  {
   "cell_type": "code",
   "execution_count": 83,
   "metadata": {},
   "outputs": [],
   "source": [
    "def qt2geom(qt):\n",
    "    bbox = Tile.from_quad_tree(qt).bounds\n",
    "    # min_lng, min_lat, max_lng, max_lat\n",
    "    poly = Polygon.from_bounds(bbox[0][1], bbox[0][0], bbox[1][1], bbox[1][0]) \n",
    "    return poly"
   ]
  },
  {
   "cell_type": "code",
   "execution_count": 84,
   "metadata": {},
   "outputs": [],
   "source": [
    "def qtid_to_geo(filepath,col_list):\n",
    "    '''Function for assigning lat-lon geometry to qtid files'''\n",
    "    #read data into a pandas df\n",
    "    df = pd.read_csv(filepath,header = None,names =col_list,\n",
    "                       dtype={'qtid_origin': object, 'qtid_destination': object})\n",
    "    \n",
    "    #extract qtid for origin and destination and apply polygon mapping function\n",
    "    qcode_list = set(list(df['qtid_origin'])+list(df['qtid_destination']))\n",
    "    qt_poly = list(map(qt2geom,qcode_list))\n",
    "    \n",
    "    #set as dataframes for merging\n",
    "    qcode_df = pd.DataFrame(list(qcode_list),columns=['qtid'])\n",
    "    qt_poly_df = pd.DataFrame(qt_poly,columns=['geometry'])\n",
    "    \n",
    "    #merge polygon and qtid dfs together and merge back with OD data to grab the origin polygon\n",
    "    merged = pd.merge(left=qcode_df,right=qt_poly_df,left_index=True,right_index=True)\n",
    "    data = pd.merge(left=df,right=merged,how='left',left_on='qtid_origin',right_on='qtid')\n",
    "    data.rename(columns={'geometry':'origin_geo'},inplace=True) #clean up\n",
    "    data.drop(['qtid'],axis=1,inplace=True) #clean up\n",
    "    \n",
    "    #merge again to get the destination polygon \n",
    "    data = pd.merge(left=data,right=merged,how='left',left_on='qtid_destination',right_on='qtid')\n",
    "    data.rename(columns={'geometry':'dest_geo'},inplace=True) #clean up\n",
    "    data.drop(['qtid'],axis=1,inplace=True) #clean up\n",
    "    \n",
    "    return data"
   ]
  },
  {
   "cell_type": "code",
   "execution_count": 85,
   "metadata": {},
   "outputs": [],
   "source": [
    "#generate dataframes with polygons for each city\n",
    "chic = qtid_to_geo(chicago,col_list)\n",
    "nyc = qtid_to_geo(nyc,col_list)\n",
    "la = qtid_to_geo(la,col_list)\n",
    "sf = qtid_to_geo(sf,col_list)"
   ]
  },
  {
   "cell_type": "code",
   "execution_count": 48,
   "metadata": {},
   "outputs": [],
   "source": [
    "#list of dataframes for iterating over later\n",
    "city_list = [chic,nyc,la,sf]"
   ]
  },
  {
   "cell_type": "code",
   "execution_count": 51,
   "metadata": {},
   "outputs": [],
   "source": [
    "#list of census tract files. source: https://www.census.gov/geo/maps-data/data/cbf/cbf_tracts.html\n",
    "\n",
    "census_tract_zips = ['cb_2017_06_tract_500k.zip','cb_2017_09_tract_500k.zip','cb_2017_17_tract_500k.zip',\n",
    "                    'cb_2017_34_tract_500k.zip','cb_2017_36_tract_500k.zip']\n",
    "\n",
    "#move and unzip the files\n",
    "for file in census_tract_zips:\n",
    "    if os.path.isfile(os.getcwd()+'/shapefiles/'+file):\n",
    "        os.system('unzip '+os.getcwd()+'/shapefiles/'+file)\n",
    "    else:\n",
    "        os.system('mv '+file+' '+os.getcwd()+'/shapefiles')\n",
    "        os.system('unzip '+os.getcwd()+'/shapefiles/'+file)"
   ]
  },
  {
   "cell_type": "code",
   "execution_count": 67,
   "metadata": {},
   "outputs": [],
   "source": [
    "folder = os.getcwd()+'/shapefiles/'\n",
    "\n",
    "census_tracts = ['cb_2017_06_tract_500k.shp','cb_2017_09_tract_500k.shp','cb_2017_17_tract_500k.shp',\n",
    "                    'cb_2017_34_tract_500k.shp','cb_2017_36_tract_500k.shp']"
   ]
  },
  {
   "cell_type": "code",
   "execution_count": 86,
   "metadata": {},
   "outputs": [],
   "source": [
    "#function for reading in the shapefiles and concatenating them\n",
    "def geo_agg(tract_file_list,path):\n",
    "    gdf_list = []\n",
    "    for i in tract_file_list:\n",
    "        ct = gpd.read_file(path+i)\n",
    "        gdf_list.append(ct)\n",
    "    \n",
    "    all_tracts = pd.concat(gdf_list)\n",
    "    \n",
    "    return all_tracts\n",
    "\n",
    "all_tracts = geo_agg(census_tracts,folder)"
   ]
  },
  {
   "cell_type": "code",
   "execution_count": 88,
   "metadata": {},
   "outputs": [
    {
     "data": {
      "text/html": [
       "<div>\n",
       "<style scoped>\n",
       "    .dataframe tbody tr th:only-of-type {\n",
       "        vertical-align: middle;\n",
       "    }\n",
       "\n",
       "    .dataframe tbody tr th {\n",
       "        vertical-align: top;\n",
       "    }\n",
       "\n",
       "    .dataframe thead th {\n",
       "        text-align: right;\n",
       "    }\n",
       "</style>\n",
       "<table border=\"1\" class=\"dataframe\">\n",
       "  <thead>\n",
       "    <tr style=\"text-align: right;\">\n",
       "      <th></th>\n",
       "      <th>STATEFP</th>\n",
       "      <th>COUNTYFP</th>\n",
       "      <th>TRACTCE</th>\n",
       "      <th>AFFGEOID</th>\n",
       "      <th>GEOID</th>\n",
       "      <th>NAME</th>\n",
       "      <th>LSAD</th>\n",
       "      <th>ALAND</th>\n",
       "      <th>AWATER</th>\n",
       "      <th>geometry</th>\n",
       "    </tr>\n",
       "  </thead>\n",
       "  <tbody>\n",
       "    <tr>\n",
       "      <th>0</th>\n",
       "      <td>06</td>\n",
       "      <td>001</td>\n",
       "      <td>400600</td>\n",
       "      <td>1400000US06001400600</td>\n",
       "      <td>06001400600</td>\n",
       "      <td>4006</td>\n",
       "      <td>CT</td>\n",
       "      <td>297856</td>\n",
       "      <td>0</td>\n",
       "      <td>POLYGON ((-122.26807 37.844136, -122.26514 37....</td>\n",
       "    </tr>\n",
       "    <tr>\n",
       "      <th>1</th>\n",
       "      <td>06</td>\n",
       "      <td>001</td>\n",
       "      <td>400900</td>\n",
       "      <td>1400000US06001400900</td>\n",
       "      <td>06001400900</td>\n",
       "      <td>4009</td>\n",
       "      <td>CT</td>\n",
       "      <td>420877</td>\n",
       "      <td>0</td>\n",
       "      <td>POLYGON ((-122.285576 37.839778, -122.283186 3...</td>\n",
       "    </tr>\n",
       "    <tr>\n",
       "      <th>2</th>\n",
       "      <td>06</td>\n",
       "      <td>001</td>\n",
       "      <td>401400</td>\n",
       "      <td>1400000US06001401400</td>\n",
       "      <td>06001401400</td>\n",
       "      <td>4014</td>\n",
       "      <td>CT</td>\n",
       "      <td>758204</td>\n",
       "      <td>0</td>\n",
       "      <td>POLYGON ((-122.278611 37.826878, -122.268563 3...</td>\n",
       "    </tr>\n",
       "    <tr>\n",
       "      <th>3</th>\n",
       "      <td>06</td>\n",
       "      <td>001</td>\n",
       "      <td>403000</td>\n",
       "      <td>1400000US06001403000</td>\n",
       "      <td>06001403000</td>\n",
       "      <td>4030</td>\n",
       "      <td>CT</td>\n",
       "      <td>352394</td>\n",
       "      <td>0</td>\n",
       "      <td>POLYGON ((-122.274757 37.79883299999999, -122....</td>\n",
       "    </tr>\n",
       "    <tr>\n",
       "      <th>4</th>\n",
       "      <td>06</td>\n",
       "      <td>001</td>\n",
       "      <td>405902</td>\n",
       "      <td>1400000US06001405902</td>\n",
       "      <td>06001405902</td>\n",
       "      <td>4059.02</td>\n",
       "      <td>CT</td>\n",
       "      <td>487280</td>\n",
       "      <td>0</td>\n",
       "      <td>POLYGON ((-122.247175 37.789913, -122.243512 3...</td>\n",
       "    </tr>\n",
       "  </tbody>\n",
       "</table>\n",
       "</div>"
      ],
      "text/plain": [
       "  STATEFP COUNTYFP TRACTCE              AFFGEOID        GEOID     NAME LSAD  \\\n",
       "0      06      001  400600  1400000US06001400600  06001400600     4006   CT   \n",
       "1      06      001  400900  1400000US06001400900  06001400900     4009   CT   \n",
       "2      06      001  401400  1400000US06001401400  06001401400     4014   CT   \n",
       "3      06      001  403000  1400000US06001403000  06001403000     4030   CT   \n",
       "4      06      001  405902  1400000US06001405902  06001405902  4059.02   CT   \n",
       "\n",
       "    ALAND  AWATER                                           geometry  \n",
       "0  297856       0  POLYGON ((-122.26807 37.844136, -122.26514 37....  \n",
       "1  420877       0  POLYGON ((-122.285576 37.839778, -122.283186 3...  \n",
       "2  758204       0  POLYGON ((-122.278611 37.826878, -122.268563 3...  \n",
       "3  352394       0  POLYGON ((-122.274757 37.79883299999999, -122....  \n",
       "4  487280       0  POLYGON ((-122.247175 37.789913, -122.243512 3...  "
      ]
     },
     "execution_count": 88,
     "metadata": {},
     "output_type": "execute_result"
    }
   ],
   "source": [
    "all_tracts.head()"
   ]
  },
  {
   "cell_type": "code",
   "execution_count": 89,
   "metadata": {},
   "outputs": [
    {
     "data": {
      "text/plain": [
       "(18904, 10)"
      ]
     },
     "execution_count": 89,
     "metadata": {},
     "output_type": "execute_result"
    }
   ],
   "source": [
    "all_tracts.shape"
   ]
  },
  {
   "cell_type": "code",
   "execution_count": 90,
   "metadata": {
    "scrolled": false
   },
   "outputs": [
    {
     "data": {
      "text/html": [
       "<div>\n",
       "<style scoped>\n",
       "    .dataframe tbody tr th:only-of-type {\n",
       "        vertical-align: middle;\n",
       "    }\n",
       "\n",
       "    .dataframe tbody tr th {\n",
       "        vertical-align: top;\n",
       "    }\n",
       "\n",
       "    .dataframe thead th {\n",
       "        text-align: right;\n",
       "    }\n",
       "</style>\n",
       "<table border=\"1\" class=\"dataframe\">\n",
       "  <thead>\n",
       "    <tr style=\"text-align: right;\">\n",
       "      <th></th>\n",
       "      <th>qtid_origin</th>\n",
       "      <th>qtid_destination</th>\n",
       "      <th>OD_counts</th>\n",
       "      <th>num_dates</th>\n",
       "      <th>avg_travel_distance (mile)</th>\n",
       "      <th>avg_travel_time (second)</th>\n",
       "      <th>time_period</th>\n",
       "      <th>dominant_mode_1</th>\n",
       "      <th>dominant_mode_2</th>\n",
       "      <th>origin_geo</th>\n",
       "      <th>dest_geo</th>\n",
       "    </tr>\n",
       "  </thead>\n",
       "  <tbody>\n",
       "    <tr>\n",
       "      <th>0</th>\n",
       "      <td>030222022323122213</td>\n",
       "      <td>030222022323122213</td>\n",
       "      <td>3</td>\n",
       "      <td>2</td>\n",
       "      <td>0.003191</td>\n",
       "      <td>758.75000</td>\n",
       "      <td>9:30 - 10:00</td>\n",
       "      <td>stay</td>\n",
       "      <td>stay</td>\n",
       "      <td>POLYGON ((-89.51248168945312 43.10298826174054...</td>\n",
       "      <td>POLYGON ((-89.51248168945312 43.10298826174054...</td>\n",
       "    </tr>\n",
       "    <tr>\n",
       "      <th>1</th>\n",
       "      <td>030222022323211002</td>\n",
       "      <td>030222022323211032</td>\n",
       "      <td>1</td>\n",
       "      <td>1</td>\n",
       "      <td>0.174543</td>\n",
       "      <td>400.50000</td>\n",
       "      <td>8:00 - 8:30</td>\n",
       "      <td>pedestrian</td>\n",
       "      <td>pedestrian</td>\n",
       "      <td>POLYGON ((-89.527587890625 43.09897742494981, ...</td>\n",
       "      <td>POLYGON ((-89.52484130859376 43.09697190802467...</td>\n",
       "    </tr>\n",
       "    <tr>\n",
       "      <th>2</th>\n",
       "      <td>030222022323211212</td>\n",
       "      <td>030222022323211100</td>\n",
       "      <td>1</td>\n",
       "      <td>1</td>\n",
       "      <td>0.372447</td>\n",
       "      <td>640.00000</td>\n",
       "      <td>9:30 - 10:00</td>\n",
       "      <td>pedestrian</td>\n",
       "      <td>pedestrian</td>\n",
       "      <td>POLYGON ((-89.52484130859376 43.09496632541337...</td>\n",
       "      <td>POLYGON ((-89.52209472656249 43.09998015877999...</td>\n",
       "    </tr>\n",
       "    <tr>\n",
       "      <th>3</th>\n",
       "      <td>030222022323211333</td>\n",
       "      <td>030222022323211333</td>\n",
       "      <td>1</td>\n",
       "      <td>1</td>\n",
       "      <td>0.023436</td>\n",
       "      <td>201.08333</td>\n",
       "      <td>7:30 - 8:00</td>\n",
       "      <td>pedestrian</td>\n",
       "      <td>pedestrian</td>\n",
       "      <td>POLYGON ((-89.51797485351562 43.0929606771163,...</td>\n",
       "      <td>POLYGON ((-89.51797485351562 43.0929606771163,...</td>\n",
       "    </tr>\n",
       "    <tr>\n",
       "      <th>4</th>\n",
       "      <td>030222022323212130</td>\n",
       "      <td>030222022323212112</td>\n",
       "      <td>2</td>\n",
       "      <td>1</td>\n",
       "      <td>0.003186</td>\n",
       "      <td>1641.86360</td>\n",
       "      <td>9:30 - 10:00</td>\n",
       "      <td>pedestrian</td>\n",
       "      <td>pedestrian</td>\n",
       "      <td>POLYGON ((-89.53033447265625 43.08995208151042...</td>\n",
       "      <td>POLYGON ((-89.53033447265625 43.09095496313368...</td>\n",
       "    </tr>\n",
       "  </tbody>\n",
       "</table>\n",
       "</div>"
      ],
      "text/plain": [
       "          qtid_origin    qtid_destination  OD_counts  num_dates  \\\n",
       "0  030222022323122213  030222022323122213          3          2   \n",
       "1  030222022323211002  030222022323211032          1          1   \n",
       "2  030222022323211212  030222022323211100          1          1   \n",
       "3  030222022323211333  030222022323211333          1          1   \n",
       "4  030222022323212130  030222022323212112          2          1   \n",
       "\n",
       "   avg_travel_distance (mile)  avg_travel_time (second)   time_period  \\\n",
       "0                    0.003191                 758.75000  9:30 - 10:00   \n",
       "1                    0.174543                 400.50000   8:00 - 8:30   \n",
       "2                    0.372447                 640.00000  9:30 - 10:00   \n",
       "3                    0.023436                 201.08333   7:30 - 8:00   \n",
       "4                    0.003186                1641.86360  9:30 - 10:00   \n",
       "\n",
       "  dominant_mode_1 dominant_mode_2  \\\n",
       "0            stay            stay   \n",
       "1      pedestrian      pedestrian   \n",
       "2      pedestrian      pedestrian   \n",
       "3      pedestrian      pedestrian   \n",
       "4      pedestrian      pedestrian   \n",
       "\n",
       "                                          origin_geo  \\\n",
       "0  POLYGON ((-89.51248168945312 43.10298826174054...   \n",
       "1  POLYGON ((-89.527587890625 43.09897742494981, ...   \n",
       "2  POLYGON ((-89.52484130859376 43.09496632541337...   \n",
       "3  POLYGON ((-89.51797485351562 43.0929606771163,...   \n",
       "4  POLYGON ((-89.53033447265625 43.08995208151042...   \n",
       "\n",
       "                                            dest_geo  \n",
       "0  POLYGON ((-89.51248168945312 43.10298826174054...  \n",
       "1  POLYGON ((-89.52484130859376 43.09697190802467...  \n",
       "2  POLYGON ((-89.52209472656249 43.09998015877999...  \n",
       "3  POLYGON ((-89.51797485351562 43.0929606771163,...  \n",
       "4  POLYGON ((-89.53033447265625 43.09095496313368...  "
      ]
     },
     "execution_count": 90,
     "metadata": {},
     "output_type": "execute_result"
    }
   ],
   "source": [
    "chic.head()"
   ]
  },
  {
   "cell_type": "code",
   "execution_count": 91,
   "metadata": {},
   "outputs": [],
   "source": [
    "origin_geo_chic = gpd.GeoDataFrame(chic, crs={'init': 'epsg:4269'}, geometry=chic['origin_geo'])\n",
    "dest_geo_chic = gpd.GeoDataFrame(chic, crs={'init': 'epsg:4269'}, geometry=chic['dest_geo'])"
   ]
  },
  {
   "cell_type": "code",
   "execution_count": null,
   "metadata": {},
   "outputs": [],
   "source": [
    "chic_origin = gpd.sjoin(origin_geo_chic,all_tracts, how='left', op='intersects')"
   ]
  },
  {
   "cell_type": "code",
   "execution_count": null,
   "metadata": {},
   "outputs": [],
   "source": [
    "chic_dest = gpd.sjoin(dest_geo_chic,all_tracts, how='left', op='intersects')"
   ]
  }
 ],
 "metadata": {
  "kernelspec": {
   "display_name": "deeplearn",
   "language": "python",
   "name": "deeplearn"
  },
  "language_info": {
   "codemirror_mode": {
    "name": "ipython",
    "version": 3
   },
   "file_extension": ".py",
   "mimetype": "text/x-python",
   "name": "python",
   "nbconvert_exporter": "python",
   "pygments_lexer": "ipython3",
   "version": "3.5.6"
  }
 },
 "nbformat": 4,
 "nbformat_minor": 2
}
